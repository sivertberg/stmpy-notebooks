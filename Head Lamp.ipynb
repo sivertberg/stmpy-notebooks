{
 "cells": [
  {
   "cell_type": "code",
   "execution_count": 7,
   "metadata": {},
   "outputs": [
    {
     "data": {
      "application/vnd.jupyter.widget-view+json": {
       "model_id": "86ddd016027f4958a70c652eaa0fcb6a",
       "version_major": 2,
       "version_minor": 0
      },
      "text/plain": [
       "Image(value=b'\\x89PNG\\r\\n\\x1a\\n\\x00\\x00\\x00\\rIHDR\\x00\\x00\\x00P\\x00\\x00\\x00P\\x08\\x02\\x00\\x00\\x00\\x01se\\xfa\\x00\\…"
      ]
     },
     "metadata": {},
     "output_type": "display_data"
    },
    {
     "data": {
      "application/vnd.jupyter.widget-view+json": {
       "model_id": "d40952875c294f8b8b3428cf3b62c1e1",
       "version_major": 2,
       "version_minor": 0
      },
      "text/plain": [
       "Checkbox(value=False, description='Hand in front of sensor')"
      ]
     },
     "metadata": {},
     "output_type": "display_data"
    }
   ],
   "source": [
    "from stmpy import Machine, Driver\n",
    "from IPython.display import display\n",
    "import ipywidgets as widgets\n",
    "\n",
    "class HeadLight:\n",
    "    \n",
    "    # callback method, called by the button 'switch' when it is pressed\n",
    "    def on_value_change(self, change):\n",
    "        if change['new']:\n",
    "            self.stm.send('hand')\n",
    "        else:\n",
    "            self.stm.send('no_hand')\n",
    "    \n",
    "    # called by the initial transition\n",
    "    def __init__(self):\n",
    "        # load images and store them\n",
    "        self.yellow_on = open(\"images/yellow_on.png\", \"rb\").read()\n",
    "        self.yellow_off = open(\"images/yellow_off.png\", \"rb\").read()\n",
    "        # a checkbox to symbolize the IR sensor\n",
    "        self.checkbox = widgets.Checkbox(value=False, description='Hand in front of sensor')\n",
    "        self.checkbox.observe(self.on_value_change, names='value')\n",
    "        # an image of a yellow light\n",
    "        self.yellow = widgets.Image(value=self.yellow_off, format='png', width=50, height=50)\n",
    "        # display everything\n",
    "        display(self.yellow, self.checkbox)\n",
    "    \n",
    "    # called by our transition to turn the light on\n",
    "    def on(self):\n",
    "        # switch on the yellow light\n",
    "        self.yellow.set_trait(name='value', value=self.yellow_on)\n",
    "    \n",
    "    # called by our transition to turn the light on\n",
    "    def off(self):\n",
    "        # switch off the yellow light\n",
    "        self.yellow.set_trait(name='value', value=self.yellow_off)\n",
    "\n",
    "t0 = {'source': 'initial',\n",
    "      'target': 'off'}\n",
    "\n",
    "t1 = {'trigger':'hand',\n",
    "      'source':'off',\n",
    "      'target':'hand_on',\n",
    "}\n",
    "t2 = {'trigger':'no_hand', \n",
    "      'source':'hand_on', \n",
    "      'target':'on',\n",
    "}\n",
    "t3 = {'trigger':'hand', \n",
    "      'source':'on', \n",
    "      'target':'hand_off',\n",
    "}\n",
    "t4 = {'trigger':'no_hand', \n",
    "      'source':'hand_off', \n",
    "      'target':'off', \n",
    "}\n",
    "t5 = {'trigger':'t', \n",
    "      'source':'hand_on', \n",
    "      'target':'off',\n",
    "}\n",
    "t6 = {'trigger':'t', \n",
    "      'source':'hand_off', \n",
    "      'target':'on',\n",
    "}\n",
    "\n",
    "off = {'name': 'off',\n",
    "      'entry': 'off '\n",
    "    }\n",
    "on = {'name': 'on',\n",
    "      'entry': 'on '\n",
    "    }\n",
    "hand_on = {'name': 'hand_on',\n",
    "      'entry': 'start_timer(\"t\", 1000) '\n",
    "    }\n",
    "hand_off = {'name': 'hand_off',\n",
    "      'entry': 'start_timer(\"t\", 1000) '\n",
    "    }\n",
    "\n",
    "head_light = HeadLight()\n",
    "\n",
    "\n",
    "machine = Machine(name='stm_headlight', transitions=[t0, t1, t2, t3, t4, t5, t6], obj=head_light, states=[off, on, hand_on, hand_off])\n",
    "head_light.stm = machine\n",
    "\n",
    "driver = Driver()\n",
    "driver.add_machine(machine)\n",
    "driver.start()"
   ]
  }
 ],
 "metadata": {
  "kernelspec": {
   "display_name": "Python 3",
   "language": "python",
   "name": "python3"
  },
  "language_info": {
   "codemirror_mode": {
    "name": "ipython",
    "version": 3
   },
   "file_extension": ".py",
   "mimetype": "text/x-python",
   "name": "python",
   "nbconvert_exporter": "python",
   "pygments_lexer": "ipython3",
   "version": "3.10.10"
  },
  "vscode": {
   "interpreter": {
    "hash": "4206a21937a52b34e53760cbc7b6018a0fb15eeef658d3a105f507f4985c6abd"
   }
  }
 },
 "nbformat": 4,
 "nbformat_minor": 2
}
