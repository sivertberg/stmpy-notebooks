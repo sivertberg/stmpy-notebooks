{
 "cells": [
  {
   "cell_type": "markdown",
   "metadata": {},
   "source": [
    "# State Machine for the Kitchen Timer\n",
    "\n",
    "This is material for the lecture, not part of the mandatory preparation."
   ]
  },
  {
   "cell_type": "code",
   "execution_count": 14,
   "metadata": {},
   "outputs": [],
   "source": [
    "from stmpy import Machine, Driver\n",
    "\n",
    "import ipywidgets as widgets\n",
    "from IPython.display import display\n",
    "\n",
    "class KitchenTimer:\n",
    "    \n",
    "    def on_button_press(self, b):\n",
    "        self.stm.send('switch') # <---- here we send a signal\n",
    "            \n",
    "    def __init__(self):\n",
    "        # load images and store them\n",
    "        self.on_60 = open(\"images/timer/on_60.jpg\", \"rb\").read()\n",
    "        self.off_60 = open(\"images/timer/off_60.jpg\", \"rb\").read()\n",
    "        self.on_45 = open(\"images/timer/on_45.jpg\", \"rb\").read()\n",
    "        self.off_45 = open(\"images/timer/off_45.jpg\", \"rb\").read()\n",
    "        self.on_30 = open(\"images/timer/on_30.jpg\", \"rb\").read()\n",
    "        self.off_30 = open(\"images/timer/off_30.jpg\", \"rb\").read()\n",
    "        self.on_15 = open(\"images/timer/on_15.jpg\", \"rb\").read()\n",
    "        self.off_15 = open(\"images/timer/off_15.jpg\", \"rb\").read()\n",
    "        self.plug_on = open(\"images/timer/plug_on.jpg\", \"rb\").read()\n",
    "        self.plug_off = open(\"images/timer/plug_off.jpg\", \"rb\").read()\n",
    "        \n",
    "        self.led_15 = widgets.Image(value=self.off_15, format='jpg', width=50, height=50)\n",
    "        self.led_30 = widgets.Image(value=self.off_30, format='jpg', width=50, height=50)\n",
    "        self.led_45 = widgets.Image(value=self.off_45, format='jpg', width=50, height=50)\n",
    "        self.led_60 = widgets.Image(value=self.off_60, format='jpg', width=50, height=50)\n",
    "        \n",
    "        left_box = widgets.VBox([self.led_60, self.led_45])\n",
    "        right_box = widgets.VBox([self.led_15, self.led_30])\n",
    "        box = widgets.HBox([left_box, right_box])\n",
    "        self.plug = widgets.Image(value=self.plug_off, format='jpg', width=100, height=100)\n",
    "        \n",
    "        # display the user interface\n",
    "        # a button\n",
    "        self.button = widgets.Button(description=\"Button\")\n",
    "        self.button.on_click(self.on_button_press)\n",
    "        \n",
    "        display(box, self.button, self.plug)\n",
    "        \n",
    "    \n",
    "    def switch_led(self, led, on):\n",
    "        if led == '15' and on: self.led_15.set_trait(name='value', value=self.on_15)\n",
    "        if led == '15' and not on: self.led_15.set_trait(name='value', value=self.off_15) \n",
    "        if led == '30' and on: self.led_30.set_trait(name='value', value=self.on_30)\n",
    "        if led == '30' and not on: self.led_30.set_trait(name='value', value=self.off_30) \n",
    "        if led == '45' and on: self.led_45.set_trait(name='value', value=self.on_45)\n",
    "        if led == '45' and not on: self.led_45.set_trait(name='value', value=self.off_45) \n",
    "        if led == '60' and on: self.led_60.set_trait(name='value', value=self.on_60)\n",
    "        if led == '60' and not on: self.led_60.set_trait(name='value', value=self.off_60)\n",
    "        if led == 'off': self.led_15.set_trait(name='value', value=self.off_15), self.led_30.set_trait(name='value', value=self.off_30), self.led_45.set_trait(name='value', value=self.off_45), self.led_60.set_trait(name='value', value=self.off_60)  \n",
    "            \n",
    "    def switch_plug(self, on):\n",
    "        if on: self.plug.set_trait(name='value', value=self.plug_on)\n",
    "        else: self.plug.set_trait(name='value', value=self.plug_off) "
   ]
  },
  {
   "cell_type": "code",
   "execution_count": 15,
   "metadata": {},
   "outputs": [
    {
     "data": {
      "application/vnd.jupyter.widget-view+json": {
       "model_id": "88ae5dd1a3ac4baab97cae2c993788ab",
       "version_major": 2,
       "version_minor": 0
      },
      "text/plain": [
       "HBox(children=(VBox(children=(Image(value=b'\\xff\\xd8\\xff\\xe0\\x00\\x10JFIF\\x00\\x01\\x01\\x00\\x00\\xc8\\x00\\xc8\\x00\\x…"
      ]
     },
     "metadata": {},
     "output_type": "display_data"
    },
    {
     "data": {
      "application/vnd.jupyter.widget-view+json": {
       "model_id": "0513cd7f8834478fbaaf95fa95569b6f",
       "version_major": 2,
       "version_minor": 0
      },
      "text/plain": [
       "Button(description='Button', style=ButtonStyle())"
      ]
     },
     "metadata": {},
     "output_type": "display_data"
    },
    {
     "data": {
      "application/vnd.jupyter.widget-view+json": {
       "model_id": "3d803e8b23b54fdba1ca1cc2ff6a5b08",
       "version_major": 2,
       "version_minor": 0
      },
      "text/plain": [
       "Image(value=b'\\xff\\xd8\\xff\\xe0\\x00\\x10JFIF\\x00\\x01\\x01\\x00\\x00\\xc8\\x00\\xc8\\x00\\x00\\xff\\xe1\\x00\\x98Exif\\x00\\x00…"
      ]
     },
     "metadata": {},
     "output_type": "display_data"
    }
   ],
   "source": [
    "import logging\n",
    "\n",
    "timer = KitchenTimer()\n",
    "\n",
    "t0 = {'source': 'initial',\n",
    "      'target': 'off'}\n",
    "\n",
    "t1 = {'trigger':'switch',\n",
    "      'source':'off',\n",
    "      'target':'15',\n",
    "}\n",
    "t2 = {'trigger':'switch', \n",
    "      'source':'15', \n",
    "      'target':'30',\n",
    "}\n",
    "t3 = {'trigger':'t', \n",
    "      'source':'15', \n",
    "      'target':'off',\n",
    "}\n",
    "t4 = {'trigger':'switch', \n",
    "      'source':'30', \n",
    "      'target':'45', \n",
    "}\n",
    "t5 = {'trigger':'t', \n",
    "      'source':'30', \n",
    "      'target':'15',\n",
    "}\n",
    "t6 = {'trigger':'switch', \n",
    "      'source':'45', \n",
    "      'target':'60', \n",
    "}\n",
    "t7 = {'trigger':'t', \n",
    "      'source':'45', \n",
    "      'target':'30',\n",
    "}\n",
    "t8 = {'trigger':'switch', \n",
    "      'source':'60', \n",
    "      'target':'off', \n",
    "}\n",
    "t9 = {'trigger':'t', \n",
    "      'source':'60', \n",
    "      'target':'45',\n",
    "}\n",
    "\n",
    "off = {'name': 'off',\n",
    "      'entry': 'switch_plug(False); switch_led(\"off\", False); '\n",
    "      }\n",
    "S1 = {'name': '15',\n",
    "      'entry': 'switch_plug(True); switch_led(\"15\", True)'\n",
    "      }\n",
    "\n",
    "S2 = {'name': '30',\n",
    "      'entry': ' switch_led(\"30\", True)',\n",
    "      }\n",
    "S3 = {'name': '45',\n",
    "      'entry': ' switch_led(\"45\", True);',\n",
    "      }\n",
    "S4 = {'name': '60',\n",
    "      'entry': ' switch_led(\"60\", True);'\n",
    "      }\n",
    "\n",
    "stm_timer = Machine(name='stm_timer', transitions=[t0, t1, t2, t3, t4, t5, t6, t7, t8, t9], obj=timer, states=[off, S1, S2, S3, S4])\n",
    "timer.stm = stm_timer\n",
    "\n",
    "logger = logging.getLogger('stmpy.Driver')\n",
    "logger.setLevel(logging.INFO)\n",
    "ch = logging.StreamHandler()\n",
    "ch.setLevel(logging.INFO)\n",
    "formatter = logging.Formatter('%(asctime)s - %(name)s - %(levelname)s - %(message)s')\n",
    "ch.setFormatter(formatter)\n",
    "logger.addHandler(ch)\n",
    "\n",
    "logger = logging.getLogger('stmpy.Machine')\n",
    "logger.setLevel(logging.INFO)\n",
    "ch = logging.StreamHandler()\n",
    "ch.setLevel(logging.INFO)\n",
    "formatter = logging.Formatter('%(asctime)s - %(name)s - %(levelname)s - %(message)s')\n",
    "ch.setFormatter(formatter)\n",
    "logger.addHandler(ch)\n",
    "\n",
    "%config Application.log_level=\"INFO\"\n",
    "    \n",
    "\n",
    "driver = Driver()\n",
    "driver.add_machine(stm_timer)\n",
    "driver.start()"
   ]
  }
 ],
 "metadata": {
  "kernelspec": {
   "display_name": "Python 3",
   "language": "python",
   "name": "python3"
  },
  "language_info": {
   "codemirror_mode": {
    "name": "ipython",
    "version": 3
   },
   "file_extension": ".py",
   "mimetype": "text/x-python",
   "name": "python",
   "nbconvert_exporter": "python",
   "pygments_lexer": "ipython3",
   "version": "3.10.9"
  },
  "vscode": {
   "interpreter": {
    "hash": "4206a21937a52b34e53760cbc7b6018a0fb15eeef658d3a105f507f4985c6abd"
   }
  }
 },
 "nbformat": 4,
 "nbformat_minor": 4
}
