{
 "cells": [
  {
   "cell_type": "code",
   "execution_count": 1,
   "metadata": {},
   "outputs": [],
   "source": [
    "from stmpy import Driver, Machine\n",
    "\n",
    "\n",
    "class Quiz:\n",
    "    def on_init(self):\n",
    "        print(\"Init!\")\n",
    "\n",
    "    def ask_question(self):\n",
    "        #print(\"What is 1+1?\")\n",
    "        self.mqtt_client.publish(\"question\", \"What is 1+1?\")\n",
    "\n",
    "    #def send_mqtt_tock(self):\n",
    "        #print(\"Tock! {}\".format(self.tocks))\n",
    "        #self.tocks = self.tocks + 1\n",
    "        #self.mqtt_client.publish(\"group16 tock\", self.ticks)\n",
    "\n",
    "\n",
    "# initial transition\n",
    "t0 = {\"source\": \"initial\", \"target\": \"waiting\"}\n",
    "\n",
    "t1 = {\n",
    "    \"trigger\": \"asked\",\n",
    "    \"source\": \"waiting\",\n",
    "    \"target\": \"question_asked\",\n",
    "}\n",
    "\n",
    "t2 = {\n",
    "    \"trigger\": \"t\",\n",
    "    \"source\": \"question_asked\",\n",
    "    \"target\": \"waiting\",\n",
    "\n",
    "}\n",
    "t3 = {\n",
    "    \"trigger\": \"buzz\",\n",
    "    \"source\": \"question_asked\",\n",
    "    \"target\": \"buzzer_pressed\",\n",
    "}\n",
    "t4 = {\n",
    "    \"trigger\": \"next\",\n",
    "    \"source\": \"buzzer_pressed\",\n",
    "    \"target\": \"waiting\",\n",
    "}\n",
    "\n",
    "waiting = {\n",
    "    \"name\": \"waiting\"\n",
    "}\n",
    "question_asked = {\n",
    "    \"name\": \"question_asked\",\n",
    "    \"entry\": \"start_timer('t', '20000')\",\n",
    "    \"exit\": \"stop_timer('t')\"\n",
    "}\n",
    "buzzer_pressed = {\n",
    "    \"name\": \"buzzer_pressed\"\n",
    "}"
   ]
  },
  {
   "cell_type": "code",
   "execution_count": 2,
   "metadata": {},
   "outputs": [],
   "source": [
    "from threading import Thread\n",
    "\n",
    "import paho.mqtt.client as mqtt\n",
    "\n",
    "\n",
    "class MQTT_Client_1:\n",
    "    def __init__(self):\n",
    "        self.client = mqtt.Client()\n",
    "        self.client.on_connect = self.on_connect\n",
    "        self.client.on_message = self.on_message\n",
    "\n",
    "    def on_connect(self, client, userdata, flags, rc):\n",
    "        print(\"on_connect(): {}\".format(mqtt.connack_string(rc)))\n",
    "\n",
    "    def on_message(self, client, userdata, msg):\n",
    "        print(\"on_message(): topic: {}\".format(msg.topic))\n",
    "        \n",
    "        if msg.topic == \"asked\":\n",
    "            self.stm_driver.send(\"asked\", \"quiz\")\n",
    "            print(msg[\"msg\"])\n",
    "        elif msg.topic == \"buzz\":\n",
    "            self.stm_driver.send(\"buzz\", \"quiz\")\n",
    "            print(msg[\"msg\"])\n",
    "        elif msg.topic == \"next\":\n",
    "            self.stm_driver.send(\"next\", \"quiz\")\n",
    "            print(msg[\"msg\"])\n",
    "        else:\n",
    "            self.stm_driver.send(\"message\", \"quiz\")\n",
    "\n",
    "\n",
    "    def start(self, broker, port):\n",
    "\n",
    "        print(\"Connecting to {}:{}\".format(broker, port))\n",
    "        self.client.connect(broker, port)\n",
    "\n",
    "        self.client.subscribe(\"question\")\n",
    "        self.client.subscribe(\"asked\")\n",
    "        self.client.subscribe(\"buzz\")\n",
    "        self.client.subscribe(\"next\")\n",
    "\n",
    "\n",
    "        try:\n",
    "            # line below should not have the () after the function!\n",
    "            thread = Thread(target=self.client.loop_forever)\n",
    "            thread.start()\n",
    "        except KeyboardInterrupt:\n",
    "            print(\"Interrupted\")\n",
    "            self.client.disconnect()"
   ]
  },
  {
   "cell_type": "code",
   "execution_count": 3,
   "metadata": {},
   "outputs": [
    {
     "name": "stdout",
     "output_type": "stream",
     "text": [
      "Connecting to mqtt20.iik.ntnu.no:1883\n",
      "on_connect(): Connection Accepted.\n"
     ]
    }
   ],
   "source": [
    "# broker, port = 'iot.eclipse.org', 1883\n",
    "#broker, port = \"localhost\", 1883\n",
    "broker, port = \"mqtt20.iik.ntnu.no\", 1883\n",
    "\n",
    "quiz = Quiz()\n",
    "quiz_machine = Machine(transitions=[t0, t1, t2, t3, t4], obj=quiz, name=\"quiz\", states=[waiting, question_asked, buzzer_pressed])\n",
    "quiz.stm = quiz_machine\n",
    "\n",
    "driver = Driver()\n",
    "driver.add_machine(quiz_machine)\n",
    "\n",
    "myclient = MQTT_Client_1()\n",
    "quiz.mqtt_client = myclient.client\n",
    "myclient.stm_driver = driver\n",
    "\n",
    "driver.start()\n",
    "myclient.start(broker, port)"
   ]
  },
  {
   "cell_type": "code",
   "execution_count": 4,
   "metadata": {},
   "outputs": [
    {
     "name": "stderr",
     "output_type": "stream",
     "text": [
      "Machine quiz is in state waiting and received event message, but no transition with this event is declared!\n"
     ]
    },
    {
     "name": "stdout",
     "output_type": "stream",
     "text": [
      "on_message(): topic: question\n",
      "on_message(): topic: asked\n",
      "What is 1+1?\n",
      "on_message(): topic: buzz\n",
      "BZZZZZ\n",
      "on_message(): topic: next\n",
      "We think its 2\n"
     ]
    }
   ],
   "source": [
    "quiz.ask_question()"
   ]
  }
 ],
 "metadata": {
  "kernelspec": {
   "display_name": "Python 3",
   "language": "python",
   "name": "python3"
  },
  "language_info": {
   "codemirror_mode": {
    "name": "ipython",
    "version": 3
   },
   "file_extension": ".py",
   "mimetype": "text/x-python",
   "name": "python",
   "nbconvert_exporter": "python",
   "pygments_lexer": "ipython3",
   "version": "3.10.10"
  },
  "orig_nbformat": 4,
  "vscode": {
   "interpreter": {
    "hash": "4206a21937a52b34e53760cbc7b6018a0fb15eeef658d3a105f507f4985c6abd"
   }
  }
 },
 "nbformat": 4,
 "nbformat_minor": 2
}
