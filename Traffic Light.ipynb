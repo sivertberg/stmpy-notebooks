{
 "cells": [
  {
   "cell_type": "markdown",
   "metadata": {},
   "source": [
    "# Traffic Light\n",
    "\n",
    "This is an exercise for the lecture and not part of the mandatory preparation material. "
   ]
  },
  {
   "cell_type": "code",
   "execution_count": 1,
   "metadata": {},
   "outputs": [],
   "source": [
    "import ipywidgets as widgets\n",
    "from IPython.display import display\n",
    "from stmpy import Machine, Driver\n",
    "\n",
    "class TrafficLight:\n",
    "    \n",
    "    def load_images(self):\n",
    "        self.red_on = open(\"images/red_on.png\", \"rb\").read()\n",
    "        self.red_off = open(\"images/red_off.png\", \"rb\").read()\n",
    "        self.yellow_on = open(\"images/yellow_on.png\", \"rb\").read()\n",
    "        self.yellow_off = open(\"images/yellow_off.png\", \"rb\").read()\n",
    "        self.green_on = open(\"images/green_on.png\", \"rb\").read()\n",
    "        self.green_off = open(\"images/green_off.png\", \"rb\").read()\n",
    "        \n",
    "    def on_button_switch(self, b):\n",
    "        self.stm.send('switch')\n",
    "        \n",
    "    def on_button_terminate(self, b):\n",
    "        self.stm.driver.stop()\n",
    "    \n",
    "    def display(self):\n",
    "        self.button_switch = widgets.Button(description=\"Switch\")\n",
    "        self.button_switch.on_click(self.on_button_switch)\n",
    "        self.button_terminate = widgets.Button(description=\"Terminate\")\n",
    "        self.button_terminate.on_click(self.on_button_terminate)\n",
    "        self.red = widgets.Image(value=self.red_off, format='png', width=50, height=50)\n",
    "        self.yellow = widgets.Image(value=self.yellow_off, format='png', width=50, height=50)\n",
    "        self.green = widgets.Image(value=self.green_off, format='png', width=50, height=50)\n",
    "        display(self.red, self.yellow, self.green, self.button_switch, self.button_terminate)\n",
    "        \n",
    "    def __init__(self):\n",
    "        self.load_images()\n",
    "        self.display()\n",
    "        \n",
    "    def turn_red_on(self):\n",
    "        self.red.set_trait(name='value', value=self.red_on)\n",
    "        \n",
    "    def turn_red_off(self):\n",
    "        self.red.set_trait(name='value', value=self.red_off)\n",
    "        \n",
    "    def turn_yellow_on(self):\n",
    "        self.yellow.set_trait(name='value', value=self.yellow_on)\n",
    "        \n",
    "    def turn_yellow_off(self):\n",
    "        self.yellow.set_trait(name='value', value=self.yellow_off)\n",
    "        \n",
    "    def turn_green_on(self):\n",
    "        self.green.set_trait(name='value', value=self.green_on)\n",
    "        \n",
    "    def turn_green_off(self):\n",
    "        self.green.set_trait(name='value', value=self.green_off)"
   ]
  },
  {
   "cell_type": "code",
   "execution_count": 2,
   "metadata": {},
   "outputs": [
    {
     "data": {
      "application/vnd.jupyter.widget-view+json": {
       "model_id": "d46e66ca76b94d0a8901893292e998b9",
       "version_major": 2,
       "version_minor": 0
      },
      "text/plain": [
       "Image(value=b'\\x89PNG\\r\\n\\x1a\\n\\x00\\x00\\x00\\rIHDR\\x00\\x00\\x00P\\x00\\x00\\x00O\\x08\\x02\\x00\\x00\\x00\\xf3\\xf3\\xd5\\xb…"
      ]
     },
     "metadata": {},
     "output_type": "display_data"
    },
    {
     "data": {
      "application/vnd.jupyter.widget-view+json": {
       "model_id": "18005d09914d481086397bec93e40243",
       "version_major": 2,
       "version_minor": 0
      },
      "text/plain": [
       "Image(value=b'\\x89PNG\\r\\n\\x1a\\n\\x00\\x00\\x00\\rIHDR\\x00\\x00\\x00P\\x00\\x00\\x00P\\x08\\x02\\x00\\x00\\x00\\x01se\\xfa\\x00\\…"
      ]
     },
     "metadata": {},
     "output_type": "display_data"
    },
    {
     "data": {
      "application/vnd.jupyter.widget-view+json": {
       "model_id": "cba54210cd8747169654cec4b45c5a50",
       "version_major": 2,
       "version_minor": 0
      },
      "text/plain": [
       "Image(value=b'\\x89PNG\\r\\n\\x1a\\n\\x00\\x00\\x00\\rIHDR\\x00\\x00\\x00P\\x00\\x00\\x00O\\x08\\x02\\x00\\x00\\x00\\xf3\\xf3\\xd5\\xb…"
      ]
     },
     "metadata": {},
     "output_type": "display_data"
    },
    {
     "data": {
      "application/vnd.jupyter.widget-view+json": {
       "model_id": "bb95f54f1ff641a7b7e84ecc42a871a1",
       "version_major": 2,
       "version_minor": 0
      },
      "text/plain": [
       "Button(description='Switch', style=ButtonStyle())"
      ]
     },
     "metadata": {},
     "output_type": "display_data"
    },
    {
     "data": {
      "application/vnd.jupyter.widget-view+json": {
       "model_id": "206e40ba44a7474098b0696d080a140b",
       "version_major": 2,
       "version_minor": 0
      },
      "text/plain": [
       "Button(description='Terminate', style=ButtonStyle())"
      ]
     },
     "metadata": {},
     "output_type": "display_data"
    }
   ],
   "source": [
    "import logging\n",
    "\n",
    "traffic = TrafficLight()\n",
    "\n",
    "t0 = {'source': 'initial',\n",
    "      'target': 'off'}\n",
    "\n",
    "t1 = {'trigger':'switch',\n",
    "      'source':'off',\n",
    "      'target':'red',\n",
    "}\n",
    "t2 = {'trigger':'switch', \n",
    "      'source':'red', \n",
    "      'target':'red_yellow',\n",
    "}\n",
    "t3 = {'trigger':'switch', \n",
    "      'source':'red_yellow', \n",
    "      'target':'green', \n",
    "}\n",
    "t4 = {'trigger':'switch', \n",
    "      'source':'green', \n",
    "      'target':'yellow', \n",
    "}\n",
    "t5 = {'trigger':'switch', \n",
    "      'source':'yellow', \n",
    "      'target':'red', \n",
    "}\n",
    "\n",
    "off = {'name': 'off'\n",
    "      }\n",
    "red = {'name': 'red',\n",
    "       'entry': 'turn_red_on'\n",
    "       }\n",
    "\n",
    "red_yellow = {'name': 'red_yellow',\n",
    "      'entry': 'turn_yellow_on;',\n",
    "      'exit': 'turn_red_off; turn_yellow_off'\n",
    "      }\n",
    "green = {'name': 'green',\n",
    "      'entry': 'turn_green_on;',\n",
    "      'exit': 'turn_green_off'\n",
    "      }\n",
    "yellow = {'name': 'yellow',\n",
    "      'entry': 'turn_yellow_on;',\n",
    "      'exit': 'turn_yellow_off'\n",
    "      }\n",
    "\n",
    "stm_traffic = Machine(name='stm_traffic', transitions=[t0, t1, t2, t3, t4, t5], obj=traffic, states=[off, red, red_yellow, green, yellow])\n",
    "traffic.stm = stm_traffic\n",
    "\n",
    "logger = logging.getLogger('stmpy.Driver')\n",
    "logger.setLevel(logging.INFO)\n",
    "ch = logging.StreamHandler()\n",
    "ch.setLevel(logging.INFO)\n",
    "formatter = logging.Formatter('%(asctime)s - %(name)s - %(levelname)s - %(message)s')\n",
    "ch.setFormatter(formatter)\n",
    "logger.addHandler(ch)\n",
    "\n",
    "logger = logging.getLogger('stmpy.Machine')\n",
    "logger.setLevel(logging.INFO)\n",
    "ch = logging.StreamHandler()\n",
    "ch.setLevel(logging.INFO)\n",
    "formatter = logging.Formatter('%(asctime)s - %(name)s - %(levelname)s - %(message)s')\n",
    "ch.setFormatter(formatter)\n",
    "logger.addHandler(ch)\n",
    "\n",
    "%config Application.log_level=\"INFO\"\n",
    "    \n",
    "\n",
    "driver = Driver()\n",
    "driver.add_machine(stm_traffic)\n",
    "driver.start()"
   ]
  },
  {
   "cell_type": "markdown",
   "metadata": {},
   "source": [
    "# Task 1: Create a Diagram\n",
    "\n",
    "Create a state machine diagram of the traffic light above.\n",
    "\n",
    "# Task 2: Use Entry and Exit Actions\n",
    "\n",
    "Create another version of the state machine that uses states with entry and exit actions."
   ]
  },
  {
   "cell_type": "code",
   "execution_count": null,
   "metadata": {},
   "outputs": [],
   "source": []
  }
 ],
 "metadata": {
  "kernelspec": {
   "display_name": "Python 3",
   "language": "python",
   "name": "python3"
  },
  "language_info": {
   "codemirror_mode": {
    "name": "ipython",
    "version": 3
   },
   "file_extension": ".py",
   "mimetype": "text/x-python",
   "name": "python",
   "nbconvert_exporter": "python",
   "pygments_lexer": "ipython3",
   "version": "3.10.9"
  },
  "vscode": {
   "interpreter": {
    "hash": "4206a21937a52b34e53760cbc7b6018a0fb15eeef658d3a105f507f4985c6abd"
   }
  }
 },
 "nbformat": 4,
 "nbformat_minor": 2
}
